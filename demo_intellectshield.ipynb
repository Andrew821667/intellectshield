{
  "cells": [
    {
      "cell_type": "markdown",
      "metadata": {},
      "source": [
        "# Демонстрация IntellectShield\n",
        "\n",
        "Эта тетрадь демонстрирует основные возможности библиотеки IntellectShield для обнаружения аномалий."
      ]
    },
    {
      "cell_type": "code",
      "execution_count": null,
      "metadata": {},
      "source": [
        "# Импорт необходимых библиотек\n",
        "import numpy as np\n",
        "import pandas as pd\n",
        "import matplotlib.pyplot as plt\n",
        "import seaborn as sns\n",
        "\n",
        "# Настройка отображения графиков\n",
        "plt.style.use('ggplot')\n",
        "sns.set_theme(style=\"whitegrid\")\n",
        "\n",
        "# Для воспроизводимости результатов\n",
        "np.random.seed(42)"
      ]
    },
    {
      "cell_type": "markdown",
      "metadata": {},
      "source": [
        "## 1. Генерация синтетических данных\n",
        "\n",
        "Сначала создадим набор синтетических данных с аномалиями для демонстрации."
      ]
    },
    {
      "cell_type": "code",
      "execution_count": null,
      "metadata": {},
      "source": [
        "# Генерация нормальных данных\n",
        "n_samples = 1000\n",
        "n_outliers = 50\n",
        "\n",
        "# Создаем два кластера нормальных данных\n",
        "X1 = np.random.multivariate_normal([0, 0], [[1, 0.5], [0.5, 1]], n_samples // 2)\n",
        "X2 = np.random.multivariate_normal([5, 5], [[1, -0.5], [-0.5, 1]], n_samples // 2)\n",
        "X_normal = np.vstack([X1, X2])\n",
        "\n",
        "# Генерация выбросов равномерно распределенных в пространстве признаков\n",
        "X_outliers = np.random.uniform(-2, 8, (n_outliers, 2))\n",
        "\n",
        "# Объединение нормальных данных и выбросов\n",
        "X = np.vstack([X_normal, X_outliers])\n",
        "\n",
        "# Создаем метки: 1 для нормальных, -1 для аномалий\n",
        "y = np.ones(n_samples + n_outliers)\n",
        "y[n_samples:] = -1\n",
        "\n",
        "# Визуализация данных\n",
        "plt.figure(figsize=(10, 8))\n",
        "plt.scatter(X[:n_samples, 0], X[:n_samples, 1], c='blue', alpha=0.5, label='Нормальные данные')\n",
        "plt.scatter(X[n_samples:, 0], X[n_samples:, 1], c='red', alpha=0.8, label='Аномалии')\n",
        "plt.title('Синтетический набор данных с аномалиями')\n",
        "plt.xlabel('Признак 1')\n",
        "plt.ylabel('Признак 2')\n",
        "plt.legend()\n",
        "plt.grid(True)\n",
        "plt.show()"
      ]
    },
    {
      "cell_type": "markdown",
      "metadata": {},
      "source": [
        "## 2. Использование детектора Isolation Forest"
      ]
    },
    {
      "cell_type": "code",
      "execution_count": null,
      "metadata": {},
      "source": [
        "# Импорт детектора из библиотеки IntellectShield\n",
        "from intellectshield.detectors.isolation_forest import IsolationForestDetector\n",
        "\n",
        "# Создаем и обучаем детектор\n",
        "iso_forest = IsolationForestDetector(n_estimators=100, contamination=0.05)\n",
        "iso_forest.fit(X)\n",
        "\n",
        "# Получаем предсказания\n",
        "y_pred_iso = iso_forest.predict(X)\n",
        "\n",
        "# Получаем оценки аномальности\n",
        "scores_iso = iso_forest.score_samples(X)\n",
        "\n",
        "# Визуализация результатов\n",
        "plt.figure(figsize=(12, 10))\n",
        "\n",
        "plt.subplot(2, 1, 1)\n",
        "plt.scatter(X[:, 0], X[:, 1], c=y_pred_iso, cmap='coolwarm', alpha=0.7)\n",
        "plt.colorbar(label='Предсказание (-1: аномалия, 1: норма)')\n",
        "plt.title('Результаты обнаружения аномалий с помощью Isolation Forest')\n",
        "plt.xlabel('Признак 1')\n",
        "plt.ylabel('Признак 2')\n",
        "\n",
        "plt.subplot(2, 1, 2)\n",
        "plt.scatter(X[:, 0], X[:, 1], c=scores_iso, cmap='viridis', alpha=0.7)\n",
        "plt.colorbar(label='Оценка аномальности')\n",
        "plt.title('Оценки аномальности (более низкие значения соответствуют аномалиям)')\n",
        "plt.xlabel('Признак 1')\n",
        "plt.ylabel('Признак 2')\n",
        "\n",
        "plt.tight_layout()\n",
        "plt.show()"
      ]
    },
    {
      "cell_type": "markdown",
      "metadata": {},
      "source": [
        "## 3. Использование детектора LOF (Local Outlier Factor)"
      ]
    },
    {
      "cell_type": "code",
      "execution_count": null,
      "metadata": {},
      "source": [
        "from intellectshield.detectors.lof import LOFDetector\n",
        "\n",
        "# Создаем и обучаем LOF детектор\n",
        "lof = LOFDetector(n_neighbors=20, contamination=0.05)\n",
        "lof.fit(X)\n",
        "\n",
        "# Получаем предсказания\n",
        "y_pred_lof = lof.predict(X)\n",
        "\n",
        "# Визуализация результатов\n",
        "plt.figure(figsize=(10, 8))\n",
        "plt.scatter(X[:, 0], X[:, 1], c=y_pred_lof, cmap='coolwarm', alpha=0.7)\n",
        "plt.colorbar(label='Предсказание (-1: аномалия, 1: норма)')\n",
        "plt.title('Результаты обнаружения аномалий с помощью LOF')\n",
        "plt.xlabel('Признак 1')\n",
        "plt.ylabel('Признак 2')\n",
        "plt.show()"
      ]
    },
    {
      "cell_type": "markdown",
      "metadata": {},
      "source": [
        "## 4. Использование ансамблевого детектора"
      ]
    },
    {
      "cell_type": "code",
      "execution_count": null,
      "metadata": {},
      "source": [
        "from intellectshield.detectors.ensemble import EnsembleAnomalyDetector\n",
        "\n",
        "# Создаем базовые детекторы\n",
        "iso_forest_base = IsolationForestDetector(n_estimators=100, contamination=0.05)\n",
        "lof_base = LOFDetector(n_neighbors=20, contamination=0.05)\n",
        "\n",
        "# Создаем ансамблевый детектор\n",
        "ensemble = EnsembleAnomalyDetector(\n",
        "    detectors=[iso_forest_base, lof_base],\n",
        "    voting='majority'\n",
        ")\n",
        "\n",
        "# Обучаем ансамбль\n",
        "ensemble.fit(X)\n",
        "\n",
        "# Получаем предсказания\n",
        "y_pred_ensemble = ensemble.predict(X)\n",
        "\n",
        "# Визуализация результатов\n",
        "plt.figure(figsize=(10, 8))\n",
        "plt.scatter(X[:, 0], X[:, 1], c=y_pred_ensemble, cmap='coolwarm', alpha=0.7)\n",
        "plt.colorbar(label='Предсказание (-1: аномалия, 1: норма)')\n",
        "plt.title('Результаты обнаружения аномалий с помощью ансамблевого детектора')\n",
        "plt.xlabel('Признак 1')\n",
        "plt.ylabel('Признак 2')\n",
        "plt.show()"
      ]
    },
    {
      "cell_type": "markdown",
      "metadata": {},
      "source": [
        "## 5. Сравнение детекторов"
      ]
    },
    {
      "cell_type": "code",
      "execution_count": null,
      "metadata": {},
      "source": [
        "from sklearn.metrics import precision_score, recall_score, f1_score\n",
        "\n",
        "# Преобразуем метки для работы с метриками sklearn (1=аномалия, 0=нормальное)\n",
        "y_true_binary = (y == -1).astype(int)\n",
        "y_pred_iso_binary = (y_pred_iso == -1).astype(int)\n",
        "y_pred_lof_binary = (y_pred_lof == -1).astype(int)\n",
        "y_pred_ensemble_binary = (y_pred_ensemble == -1).astype(int)\n",
        "\n",
        "# Рассчитываем метрики для всех детекторов\n",
        "metrics = pd.DataFrame({\n",
        "    'Детектор': ['Isolation Forest', 'LOF', 'Ensemble'],\n",
        "    'Precision': [\n",
        "        precision_score(y_true_binary, y_pred_iso_binary),\n",
        "        precision_score(y_true_binary, y_pred_lof_binary),\n",
        "        precision_score(y_true_binary, y_pred_ensemble_binary)\n",
        "    ],\n",
        "    'Recall': [\n",
        "        recall_score(y_true_binary, y_pred_iso_binary),\n",
        "        recall_score(y_true_binary, y_pred_lof_binary),\n",
        "        recall_score(y_true_binary, y_pred_ensemble_binary)\n",
        "    ],\n",
        "    'F1': [\n",
        "        f1_score(y_true_binary, y_pred_iso_binary),\n",
        "        f1_score(y_true_binary, y_pred_lof_binary),\n",
        "        f1_score(y_true_binary, y_pred_ensemble_binary)\n",
        "    ]\n",
        "})\n",
        "\n",
        "print(metrics)\n",
        "\n",
        "# Визуализация сравнения\n",
        "fig, axes = plt.subplots(1, 3, figsize=(15, 5))\n",
        "\n",
        "for i, metric in enumerate(['Precision', 'Recall', 'F1']):\n",
        "    sns.barplot(x='Детектор', y=metric, data=metrics, ax=axes[i])\n",
        "    axes[i].set_ylim(0, 1)\n",
        "    axes[i].set_title(metric)\n",
        "\n",
        "plt.tight_layout()\n",
        "plt.show()"
      ]
    },
    {
      "cell_type": "markdown",
      "metadata": {},
      "source": [
        "## 6. Заключение\n",
        "\n",
        "В этой демонстрации мы показали использование различных детекторов аномалий из библиотеки IntellectShield:\n",
        "\n",
        "1. **Isolation Forest** - Эффективный алгоритм, который хорошо работает с высокоразмерными данными\n",
        "2. **Local Outlier Factor (LOF)** - Алгоритм, основанный на плотности, который хорошо выявляет локальные аномалии\n",
        "3. **Ансамблевый детектор** - Объединяет преимущества различных алгоритмов для достижения более высокой точности\n",
        "\n",
        "Каждый детектор имеет свои сильные и слабые стороны, и выбор конкретного алгоритма зависит от характеристик данных и требований задачи."
      ]
    }
  ],
  "metadata": {
    "kernelspec": {
      "display_name": "Python 3",
      "language": "python",
      "name": "python3"
    },
    "language_info": {
      "codemirror_mode": {
        "name": "ipython",
        "version": 3
      },
      "file_extension": ".py",
      "mimetype": "text/x-python",
      "name": "python",
      "nbconvert_exporter": "python",
      "pygments_lexer": "ipython3",
      "version": "3.8.10"
    }
  },
  "nbformat": 4,
  "nbformat_minor": 4
}